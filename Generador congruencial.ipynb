{
  "nbformat": 4,
  "nbformat_minor": 0,
  "metadata": {
    "colab": {
      "provenance": [],
      "authorship_tag": "ABX9TyPibwFp7oIcqzLhmdDbYofa",
      "include_colab_link": true
    },
    "kernelspec": {
      "name": "python3",
      "display_name": "Python 3"
    },
    "language_info": {
      "name": "python"
    }
  },
  "cells": [
    {
      "cell_type": "markdown",
      "metadata": {
        "id": "view-in-github",
        "colab_type": "text"
      },
      "source": [
        "<a href=\"https://colab.research.google.com/github/CesarAF10/Simulaci-n-I/blob/main/Generador%20congruencial.ipynb\" target=\"_parent\"><img src=\"https://colab.research.google.com/assets/colab-badge.svg\" alt=\"Open In Colab\"/></a>"
      ]
    },
    {
      "cell_type": "code",
      "execution_count": 1,
      "metadata": {
        "colab": {
          "base_uri": "https://localhost:8080/"
        },
        "id": "mgr5VHEnBuf0",
        "outputId": "492f24d8-e2f4-48d5-b2b6-43da915d76c5"
      },
      "outputs": [
        {
          "output_type": "stream",
          "name": "stdout",
          "text": [
            "+-----------+------------------+-------------+\n",
            "| Iteración | Número Aleatorio | Normalizado |\n",
            "+-----------+------------------+-------------+\n",
            "|     1     |        6         |    0.375    |\n",
            "|     2     |        1         |   0.0625    |\n",
            "|     3     |        8         |     0.5     |\n",
            "|     4     |        11        |   0.6875    |\n",
            "|     5     |        10        |    0.625    |\n",
            "|     6     |        5         |   0.3125    |\n",
            "|     7     |        12        |    0.75     |\n",
            "|     8     |        15        |   0.9375    |\n",
            "|     9     |        14        |    0.875    |\n",
            "|    10     |        9         |   0.5625    |\n",
            "|    11     |        0         |     0.0     |\n",
            "|    12     |        3         |   0.1875    |\n",
            "|    13     |        2         |    0.125    |\n",
            "|    14     |        13        |   0.8125    |\n",
            "|    15     |        4         |    0.25     |\n",
            "|    16     |        7         |   0.4375    |\n",
            "|    17     |        6         |    0.375    |\n",
            "|    18     |        1         |   0.0625    |\n",
            "|    19     |        8         |     0.5     |\n",
            "|    20     |        11        |   0.6875    |\n",
            "+-----------+------------------+-------------+\n",
            "\n",
            "El ciclo de vida del generador es: 16\n"
          ]
        }
      ],
      "source": [
        "# Importar la librería necesaria para crear la tabla\n",
        "from tabulate import tabulate\n",
        "\n",
        "# Definir la clase GeneradorCongruencial\n",
        "class GeneradorCongruencial:\n",
        "    def __init__(self, semilla, a, c, m):\n",
        "        \"\"\"\n",
        "        Inicializa el generador congruencial lineal.\n",
        "\n",
        "        :param semilla: Semilla inicial (X0)\n",
        "        :param a: Multiplicador (a)\n",
        "        :param c: Incremento (c)\n",
        "        :param m: Módulo (m)\n",
        "        \"\"\"\n",
        "        self.semilla = semilla\n",
        "        self.a = a\n",
        "        self.c = c\n",
        "        self.m = m\n",
        "\n",
        "    def generar(self, n):\n",
        "        \"\"\"\n",
        "        Genera una secuencia de números pseudoaleatorios.\n",
        "\n",
        "        :param n: Número de valores a generar\n",
        "        :return: Lista de números pseudoaleatorios y sus normalizados\n",
        "        \"\"\"\n",
        "        numeros = []\n",
        "        x = self.semilla\n",
        "        for _ in range(n):\n",
        "            x = (self.a * x + self.c) % self.m  # Fórmula del generador congruencial\n",
        "            numeros.append((x, x / self.m))  # Guardar el número y su normalizado\n",
        "        return numeros\n",
        "\n",
        "# Parámetros del generador congruencial\n",
        "semilla = 7  # X0\n",
        "a = 5        # Multiplicador\n",
        "c = 3        # Incremento\n",
        "m = 16       # Módulo\n",
        "\n",
        "# Crear una instancia del generador\n",
        "generador = GeneradorCongruencial(semilla, a, c, m)\n",
        "\n",
        "# Generar 20 números pseudoaleatorios\n",
        "n = 20\n",
        "secuencia = generador.generar(n)\n",
        "\n",
        "# Crear la tabla de salida\n",
        "tabla = []\n",
        "for i, (numero, normalizado) in enumerate(secuencia, 1):\n",
        "    tabla.append([i, numero, normalizado])\n",
        "\n",
        "# Imprimir la tabla usando tabulate\n",
        "print(tabulate(tabla, headers=[\"Iteración\", \"Número Aleatorio\", \"Normalizado\"], tablefmt=\"pretty\"))\n",
        "\n",
        "# Determinar el ciclo de vida\n",
        "ciclo_vida = len(set([x[0] for x in secuencia]))  # Número de valores únicos generados\n",
        "print(f\"\\nEl ciclo de vida del generador es: {ciclo_vida}\")"
      ]
    }
  ]
}